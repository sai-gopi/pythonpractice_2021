{
 "cells": [
  {
   "cell_type": "code",
   "execution_count": 1,
   "id": "f02498a6",
   "metadata": {},
   "outputs": [
    {
     "name": "stdout",
     "output_type": "stream",
     "text": [
      "enter a: 2\n",
      "enter b: 2\n",
      "4\n",
      "0\n"
     ]
    }
   ],
   "source": [
    "#add and substarct\n",
    "a = int(input(\"enter a: \"))\n",
    "b = int(input(\"enter b: \"))\n",
    "print(a + b)\n",
    "print(a - b)"
   ]
  },
  {
   "cell_type": "code",
   "execution_count": 4,
   "id": "6583b339",
   "metadata": {},
   "outputs": [
    {
     "name": "stdout",
     "output_type": "stream",
     "text": [
      "enter a: 2\n",
      "enter b: 3\n",
      "6\n",
      "0.6666666666666666\n"
     ]
    }
   ],
   "source": [
    "#multiply and division\n",
    "a = int(input(\"enter a: \"))\n",
    "b = int(input(\"enter b: \"))\n",
    "print(a * b)\n",
    "print(a / b)"
   ]
  },
  {
   "cell_type": "code",
   "execution_count": 5,
   "id": "aeaf3718",
   "metadata": {},
   "outputs": [
    {
     "name": "stdout",
     "output_type": "stream",
     "text": [
      "enter a: 23\n",
      "529\n",
      "12167\n"
     ]
    }
   ],
   "source": [
    "#square and cube\n",
    "a = int(input(\"enter a: \"))\n",
    "print(a ** 2)\n",
    "print(a ** 3)"
   ]
  },
  {
   "cell_type": "markdown",
   "id": "68b381a7",
   "metadata": {},
   "source": [
    "#square root of number\n",
    "n = int(input(\"enter a: \"))\n",
    "n1 = str(n ** 0.5)\n",
    "print( n1 )"
   ]
  },
  {
   "cell_type": "code",
   "execution_count": 6,
   "id": "afea740b",
   "metadata": {},
   "outputs": [
    {
     "name": "stdout",
     "output_type": "stream",
     "text": [
      "enter a: 81\n",
      "9.0\n"
     ]
    }
   ],
   "source": [
    "#square root of number \n",
    "n = int(input(\"enter a: \")) \n",
    "n1 = str(n ** 0.5) \n",
    "print( n1 )"
   ]
  },
  {
   "cell_type": "code",
   "execution_count": 7,
   "id": "df76cc70",
   "metadata": {},
   "outputs": [
    {
     "name": "stdout",
     "output_type": "stream",
     "text": [
      "enter side: 2\n",
      "area of square 4\n",
      "perimeter of square 8\n"
     ]
    }
   ],
   "source": [
    "#area of square\n",
    "side = int(input(\"enter side: \"))\n",
    "area_of_square = str(side * side)\n",
    "print(\"area of square \" + area_of_square)\n",
    "\n",
    "perimeter_of_square = str(4 * side)\n",
    "print(\"perimeter of square \" + perimeter_of_square)\n"
   ]
  },
  {
   "cell_type": "code",
   "execution_count": 8,
   "id": "77db0b2e",
   "metadata": {},
   "outputs": [
    {
     "name": "stdout",
     "output_type": "stream",
     "text": [
      "radius of circle: 12\n",
      "area of circle : 452.16\n",
      "circumferenc of circle : 75.36\n"
     ]
    }
   ],
   "source": [
    "#area and circumference of circle\n",
    "r = int(input(\"radius of circle: \"))\n",
    "pi = 3.14\n",
    "area_of_circle = str(pi * (r**2))\n",
    "circumferenc_of_circle = str(2 * pi * r)\n",
    "print(\"area of circle : \" + area_of_circle)\n",
    "print(\"circumferenc of circle : \" + circumferenc_of_circle)\n"
   ]
  },
  {
   "cell_type": "code",
   "execution_count": 9,
   "id": "0cf8d7eb",
   "metadata": {},
   "outputs": [
    {
     "name": "stdout",
     "output_type": "stream",
     "text": [
      "radius of sphere: 33\n"
     ]
    },
    {
     "data": {
      "text/plain": [
       "13677.84"
      ]
     },
     "execution_count": 9,
     "metadata": {},
     "output_type": "execute_result"
    }
   ],
   "source": [
    "#area of sphere\n",
    "r = int(input(\"radius of sphere: \"))\n",
    "pi = 3.14\n",
    "area_of_sphere = (4 * pi * r**2)\n",
    "area_of_sphere"
   ]
  },
  {
   "cell_type": "code",
   "execution_count": 10,
   "id": "a763bc79",
   "metadata": {},
   "outputs": [
    {
     "name": "stdout",
     "output_type": "stream",
     "text": [
      "radius of cylinder: 44\n",
      "height of cylinder: 12\n"
     ]
    },
    {
     "data": {
      "text/plain": [
       "72948.48"
      ]
     },
     "execution_count": 10,
     "metadata": {},
     "output_type": "execute_result"
    }
   ],
   "source": [
    "r = int(input(\"radius of cylinder: \"))\n",
    "h = int(input(\"height of cylinder: \"))\n",
    "pi = 3.14\n",
    "volume_of_cylinder = pi * r**2 * h\n",
    "volume_of_cylinder"
   ]
  },
  {
   "cell_type": "code",
   "execution_count": 11,
   "id": "f246d674",
   "metadata": {},
   "outputs": [
    {
     "name": "stdout",
     "output_type": "stream",
     "text": [
      "enter date of birth (DD-MM-YYYY): 26-08-1998\n",
      "26-08-1998\n",
      "1998-08-26\n",
      "2021-07-14\n",
      "Your age in days: 8358\n"
     ]
    }
   ],
   "source": [
    "# age in days\n",
    "from datetime import datetime, date\n",
    "\n",
    "date_of_birth = input(\"enter date of birth (DD-MM-YYYY): \")\n",
    "\n",
    "print(date_of_birth)\n",
    "\n",
    "dob = datetime.strptime(date_of_birth, \"%d-%m-%Y\").date()\n",
    "\n",
    "print(dob)\n",
    "\n",
    "today_date = date.today()\n",
    "\n",
    "print(today_date)\n",
    "\n",
    "age = today_date - dob\n",
    "\n",
    "age_in_days = age.days\n",
    "\n",
    "print(f\"Your age in days: {age_in_days}\")"
   ]
  },
  {
   "cell_type": "code",
   "execution_count": null,
   "id": "b4b7ad10",
   "metadata": {},
   "outputs": [],
   "source": [
    "os, sys, datetime, "
   ]
  },
  {
   "cell_type": "code",
   "execution_count": 12,
   "id": "151bd157",
   "metadata": {},
   "outputs": [
    {
     "name": "stdout",
     "output_type": "stream",
     "text": [
      "enter amount: 700000\n",
      "enter intrest: 2\n",
      "enter months: 12\n"
     ]
    },
    {
     "data": {
      "text/plain": [
       "168000.0"
      ]
     },
     "execution_count": 12,
     "metadata": {},
     "output_type": "execute_result"
    }
   ],
   "source": [
    "# simple intrest\n",
    "p = int(input(\"enter amount: \"))\n",
    "i = int(input(\"enter intrest: \"))\n",
    "t = int(input(\"enter months: \"))\n",
    "simple_intrest = ( p * i * t ) / 100\n",
    "simple_intrest"
   ]
  },
  {
   "cell_type": "code",
   "execution_count": 13,
   "id": "b70fdb3a",
   "metadata": {},
   "outputs": [
    {
     "name": "stdout",
     "output_type": "stream",
     "text": [
      "enter amount: 18000\n",
      "enter interest: 2\n",
      "enter years: 1\n",
      "compounded [yearly/half-yearly/quaterly/monthly]: half-yearly\n",
      "2.0\n",
      "18361.8\n"
     ]
    }
   ],
   "source": [
    "# compound interest\n",
    "p = float(input(\"enter amount: \"))\n",
    "r = float(input(\"enter interest: \"))\n",
    "t = float(input(\"enter years: \"))\n",
    "\n",
    "interest_calc = input(\"compounded [yearly/half-yearly/quaterly/monthly]: \")\n",
    "\n",
    "d = {'yearly': 12 , 'half-yearly': 6,'quaterly': 3,'monthly': 1 }\n",
    "\n",
    "n = (t*12) / d[interest_calc]\n",
    "print(n)\n",
    "\n",
    "amount = p*(1+((r/100)*(d[interest_calc]/12)))**n\n",
    "\n",
    "print(amount)"
   ]
  },
  {
   "cell_type": "code",
   "execution_count": 14,
   "id": "b238f146",
   "metadata": {},
   "outputs": [
    {
     "name": "stdout",
     "output_type": "stream",
     "text": [
      "enter kilometers/hr :12\n"
     ]
    },
    {
     "data": {
      "text/plain": [
       "'7.452 miles/hr'"
      ]
     },
     "execution_count": 14,
     "metadata": {},
     "output_type": "execute_result"
    }
   ],
   "source": [
    "#km/hr to miles/hr\n",
    "kilometers = int(input(\"enter kilometers/hr :\"))\n",
    "miles = kilometers * 0.621\n",
    "n = str(miles)\n",
    "n + \" miles/hr\""
   ]
  },
  {
   "cell_type": "code",
   "execution_count": null,
   "id": "af0a97d0",
   "metadata": {},
   "outputs": [],
   "source": [
    "s = int(input(\"enter seconds = \"))\n",
    "print(s)\n",
    "\n"
   ]
  },
  {
   "cell_type": "code",
   "execution_count": 16,
   "id": "cd81c3e1",
   "metadata": {},
   "outputs": [
    {
     "name": "stdout",
     "output_type": "stream",
     "text": [
      "enter date of birth[dd-mm-yyyy]: 08-08-1997\n",
      "08-08-1997\n",
      "1997-08-08\n",
      "2021-07-14\n",
      "8741\n"
     ]
    }
   ],
   "source": [
    "#age in days\n",
    "from datetime import date,datetime\n",
    "\n",
    "date_of_birth = input(\"enter date of birth[dd-mm-yyyy]: \")\n",
    "print(date_of_birth)\n",
    "\n",
    "dob = datetime.strptime(date_of_birth , \"%d-%m-%Y\").date()\n",
    "\n",
    "print(dob)\n",
    "\n",
    "today_date = date.today()\n",
    "\n",
    "print(today_date)\n",
    "\n",
    "age = today_date - dob\n",
    "\n",
    "age_in_days = age.days\n",
    "\n",
    "print(age_in_days)"
   ]
  },
  {
   "cell_type": "code",
   "execution_count": 51,
   "id": "2494466e",
   "metadata": {},
   "outputs": [
    {
     "name": "stdout",
     "output_type": "stream",
     "text": [
      "pure milk cost: 3.25\n",
      "pure milk in liters:4\n",
      "milk buying price: 13.0\n",
      "total milk with water: 5.0\n",
      "milk selling price: 4.15\n",
      "gain of selling milk: 7.75\n"
     ]
    }
   ],
   "source": [
    "#milk vendor\n",
    "buying_pure_milk_rate = 3.25\n",
    "\n",
    "print(f\"pure milk cost: {buying_pure_milk_rate}\")\n",
    "\n",
    "pure_milk = int(input(\"pure milk in liters:\"))\n",
    "\n",
    "buying_price = (buying_pure_milk_rate * pure_milk)\n",
    "\n",
    "print(f\"milk buying price: {buying_price}\")\n",
    "\n",
    "selling_price = 4.15\n",
    "\n",
    "adding_water_per_liter = 0.25\n",
    "\n",
    "water_in_milk = (pure_milk * adding_water_per_liter)\n",
    "\n",
    "total_milk = (pure_milk + water_in_milk)\n",
    "\n",
    "print(f\"total milk with water: {total_milk}\")\n",
    "\n",
    "milk_selling_price = total_milk * selling_price\n",
    "\n",
    "print(f\"milk selling price: {selling_price}\")\n",
    "\n",
    "gain = milk_selling_price - buying_price\n",
    "\n",
    "print(f\"gain of selling milk: {gain}\")\n",
    "\n",
    "\n"
   ]
  },
  {
   "cell_type": "code",
   "execution_count": 36,
   "id": "3a22fffe",
   "metadata": {},
   "outputs": [
    {
     "name": "stdout",
     "output_type": "stream",
     "text": [
      "enter fahrenheit value: 98\n",
      "celsius value : 36.666666666666664\n"
     ]
    }
   ],
   "source": [
    "f = int(input(\"enter fahrenheit value: \"))\n",
    "\n",
    "c = (f-32)/1.8\n",
    "\n",
    "print(f\"celsius value : {c}\")\n",
    "\n"
   ]
  },
  {
   "cell_type": "code",
   "execution_count": 38,
   "id": "ee52ae0a",
   "metadata": {},
   "outputs": [
    {
     "name": "stdout",
     "output_type": "stream",
     "text": [
      "enter a: 2\n",
      "enter b: 4\n",
      "4\n",
      "2\n"
     ]
    }
   ],
   "source": [
    "#interchangig controls\n",
    "a = input(\"enter a: \")\n",
    "b = input(\"enter b: \")\n",
    "\n",
    "temp = a\n",
    "a = b\n",
    "b = temp\n",
    "print(a)\n",
    "print(b)\n"
   ]
  },
  {
   "cell_type": "code",
   "execution_count": 47,
   "id": "87e819f3",
   "metadata": {},
   "outputs": [
    {
     "name": "stdout",
     "output_type": "stream",
     "text": [
      "enter x1: 2\n",
      "enter x2: 3\n",
      "enter y1: 4\n",
      "enter y2: 6\n",
      "distance between two points : -1.5\n"
     ]
    }
   ],
   "source": [
    "#distance between two points\n",
    "x1 = int(input(\"enter x1: \"))\n",
    "x2 = int(input(\"enter x2: \"))\n",
    "y1 = int(input(\"enter y1: \"))\n",
    "y2 = int(input(\"enter y2: \"))\n",
    "d = ((x2 - x1)**2 - (y2 - y1)**2)**1/2\n",
    "print(f\"distance between two points : {d}\")"
   ]
  },
  {
   "cell_type": "code",
   "execution_count": 57,
   "id": "0652e25c",
   "metadata": {},
   "outputs": [
    {
     "name": "stdout",
     "output_type": "stream",
     "text": [
      "enter the distance(km): 23\n",
      "kilometers in meters : 23000\n",
      "kilometers in centimetrs :0.00023\n"
     ]
    }
   ],
   "source": [
    "distance_cites = int(input(\"enter the distance(km): \"))\n",
    "km_to_meters = (distance_cites * 1000)\n",
    "km_to_centimeters = (distance_cites * 10**-5)\n",
    "print(f\"kilometers in meters : {km_to_meters}\")\n",
    "print(f\"kilometers in centimetrs :{km_to_centimeters}\")\n"
   ]
  },
  {
   "cell_type": "code",
   "execution_count": 59,
   "id": "2f0ffdb7",
   "metadata": {},
   "outputs": [
    {
     "name": "stdout",
     "output_type": "stream",
     "text": [
      "enter dollars :12\n",
      "dollar in rupees: 894.0\n"
     ]
    }
   ],
   "source": [
    "#dollars in rupees\n",
    "dollars = int(input(\"enter dollars :\"))\n",
    "rupees = 74.50\n",
    "dollar_in_rupees = dollars * rupees\n",
    "print(f\"dollar in rupees: {dollar_in_rupees}\")"
   ]
  },
  {
   "cell_type": "code",
   "execution_count": 61,
   "id": "c24aff76",
   "metadata": {},
   "outputs": [
    {
     "name": "stdout",
     "output_type": "stream",
     "text": [
      "enter height: 3\n",
      "enter base: 4\n",
      "area of traiangle : 6.0\n"
     ]
    }
   ],
   "source": [
    "h = int(input(\"enter height: \"))\n",
    "b = int(input(\"enter base: \"))\n",
    "area_of_traingle  = 1/2 * b * h\n",
    "print(f\"area of traiangle : {area_of_traingle}\")"
   ]
  },
  {
   "cell_type": "code",
   "execution_count": 19,
   "id": "7f71c815",
   "metadata": {},
   "outputs": [
    {
     "name": "stdout",
     "output_type": "stream",
     "text": [
      "enter a: 4\n",
      "enter b: 5\n",
      "enter c: 6\n",
      "7.5\n",
      "area of traingle : 49.21875\n"
     ]
    }
   ],
   "source": [
    "a = int(input(\"enter a: \"))\n",
    "b = int(input(\"enter b: \"))\n",
    "c = int(input(\"enter c: \"))\n",
    "\n",
    "s = (a + b + c) / 2\n",
    "\n",
    "print(s)\n",
    "\n",
    "area_of_traingle = (s*(s-a)*(s-b)*(s-c)) ** 1/2\n",
    "\n",
    "\n",
    "print (f\"area of traingle : {area_of_traingle}\")"
   ]
  },
  {
   "cell_type": "code",
   "execution_count": 25,
   "id": "a07655a9",
   "metadata": {},
   "outputs": [
    {
     "name": "stdout",
     "output_type": "stream",
     "text": [
      "enter marks for subject1: 60\n",
      "enter marks for subject2: 90\n",
      "enter marks for subject3: 100\n",
      "250\n",
      "83.33333333333333\n"
     ]
    }
   ],
   "source": [
    "sub1 = int(input(\"enter marks for subject1: \"))\n",
    "sub2 = int(input(\"enter marks for subject2: \"))\n",
    "sub3 = int(input(\"enter marks for subject3: \"))\n",
    "\n",
    "total = sub1 + sub2 + sub3\n",
    "\n",
    "print(total)\n",
    "\n",
    "average = total / 3\n",
    "\n",
    "print(average)"
   ]
  },
  {
   "cell_type": "code",
   "execution_count": 23,
   "id": "9968b0f3",
   "metadata": {},
   "outputs": [
    {
     "name": "stdout",
     "output_type": "stream",
     "text": [
      "enter value: 56\n",
      "56 is +ve\n"
     ]
    }
   ],
   "source": [
    "n = int(input(\"enter value: \"))\n",
    "\n",
    "if n > 0 :\n",
    "    \n",
    "    print(f\"{n} is +ve\")\n",
    "    \n",
    "elif n == 0 :\n",
    "    print(f\"{n} is neutral\")\n",
    "    \n",
    "else:\n",
    "    print(f\"{n} is -ve\")"
   ]
  },
  {
   "cell_type": "code",
   "execution_count": 24,
   "id": "f04be2a8",
   "metadata": {},
   "outputs": [
    {
     "name": "stdout",
     "output_type": "stream",
     "text": [
      "enter n: 23\n",
      "23 is odd\n"
     ]
    }
   ],
   "source": [
    "n = int(input(\"enter n: \"))\n",
    "\n",
    "if n%2 == 0 :\n",
    "    \n",
    "    print(f\"{n} is even\")\n",
    "    \n",
    "else:\n",
    "    \n",
    "    print(f\"{n} is odd\")"
   ]
  },
  {
   "cell_type": "code",
   "execution_count": 26,
   "id": "83e59984",
   "metadata": {},
   "outputs": [
    {
     "name": "stdout",
     "output_type": "stream",
     "text": [
      "enter a: 3\n",
      "enter b: 7\n",
      "a is smaller\n"
     ]
    }
   ],
   "source": [
    "a = int(input(\"enter a: \"))\n",
    "\n",
    "b = int(input(\"enter b: \"))\n",
    "\n",
    "if a < b :\n",
    "    \n",
    "    print(\"a is smaller\")\n",
    "    \n",
    "else:\n",
    "    \n",
    "    print(\"b is smaller\")"
   ]
  },
  {
   "cell_type": "code",
   "execution_count": 29,
   "id": "88489f23",
   "metadata": {},
   "outputs": [
    {
     "name": "stdout",
     "output_type": "stream",
     "text": [
      "enter a: 2\n",
      "enter b: 4\n",
      "enter c: 3\n",
      "b is greater\n"
     ]
    }
   ],
   "source": [
    "a = int(input(\"enter a: \"))\n",
    "\n",
    "b = int(input(\"enter b: \"))\n",
    "\n",
    "c = int(input(\"enter c: \"))\n",
    "\n",
    "is_greather_than = (a > b) and (a > c)\n",
    "\n",
    "if is_greather_than :\n",
    "    \n",
    "    print(\"a is greater\")\n",
    "    \n",
    "else:\n",
    "    if b>c :\n",
    "        print(\"b is greater\")\n",
    "        \n",
    "    else:\n",
    "        print(\"c is greater\")\n"
   ]
  },
  {
   "cell_type": "code",
   "execution_count": 7,
   "id": "f764ca6c",
   "metadata": {},
   "outputs": [
    {
     "name": "stdout",
     "output_type": "stream",
     "text": [
      "enter year: 3000\n",
      "not leap year\n"
     ]
    }
   ],
   "source": [
    "year = int(input(\"enter year: \"))\n",
    "\n",
    "if year%4 == 0 and year%100 != 0 or year % 400 == 0 :\n",
    "    print(\"leap year\")\n",
    "    \n",
    "else:\n",
    "    print(\"not leap year\")"
   ]
  },
  {
   "cell_type": "code",
   "execution_count": 16,
   "id": "3a0fc89b",
   "metadata": {},
   "outputs": [
    {
     "name": "stdout",
     "output_type": "stream",
     "text": [
      "enter a number: 12\n",
      "entered value 12 is positive\n",
      "enter next value: \n",
      "enter a number: 2\n",
      "entered value 2 is positive\n",
      "enter next value: \n",
      "enter a number: 3\n",
      "entered value 3 is positive\n",
      "enter next value: \n",
      "enter a number: 4\n",
      "entered value 4 is positive\n",
      "enter next value: \n",
      "enter a number: -2\n",
      "entered value -2 is negative\n"
     ]
    }
   ],
   "source": [
    "while True:\n",
    "    i = input('enter a number: ')\n",
    "\n",
    "    if int(i)>=0:\n",
    "        print(f'entered value {i} is positive')\n",
    "        print('enter next value: ')\n",
    "        continue\n",
    "    else:\n",
    "        print(f'entered value {i} is negative')      \n",
    "        break"
   ]
  },
  {
   "cell_type": "code",
   "execution_count": 12,
   "id": "4e5cbc76",
   "metadata": {},
   "outputs": [
    {
     "name": "stdout",
     "output_type": "stream",
     "text": [
      "enter a number: 12\n",
      "36\n"
     ]
    }
   ],
   "source": [
    "i, total_sum = 0, 0\n",
    "\n",
    "while i < 3:\n",
    "    try:\n",
    "        n = int(input('enter a number: '))\n",
    "        total_sum += n\n",
    "        i += 1\n",
    "    except Exception as error:\n",
    "        print('only numbers are allowed. please enter a valid number')\n",
    "        continue\n",
    "\n",
    "print(total_sum)"
   ]
  },
  {
   "cell_type": "code",
   "execution_count": 8,
   "id": "e3335e9f",
   "metadata": {},
   "outputs": [
    {
     "name": "stdout",
     "output_type": "stream",
     "text": [
      "35\n",
      "12\n"
     ]
    }
   ],
   "source": [
    "a = 12\n",
    "b = 35\n",
    "a, b = b, a\n",
    "print(a)\n",
    "print(b)"
   ]
  },
  {
   "cell_type": "code",
   "execution_count": 15,
   "id": "29fba799",
   "metadata": {},
   "outputs": [
    {
     "name": "stdout",
     "output_type": "stream",
     "text": [
      "enter n : 1\n",
      "enter n : 2\n",
      "enter n : 3\n",
      "enter n : 4\n",
      "enter n : 5\n",
      "enter n : 6\n",
      "enter n : 7\n",
      "enter n : 8\n",
      "enter n : 9\n",
      "enter n : 0\n",
      "45\n"
     ]
    }
   ],
   "source": [
    "i = 0\n",
    "total_sum = 0\n",
    "\n",
    "while i < 10:\n",
    "    n = int(input(\"enter n : \"))\n",
    "    total_sum += n\n",
    "    i += 1\n",
    "    \n",
    "    \n",
    "print(total_sum)\n",
    "    \n",
    "    \n"
   ]
  },
  {
   "cell_type": "code",
   "execution_count": 17,
   "id": "b52335fb",
   "metadata": {},
   "outputs": [
    {
     "name": "stdout",
     "output_type": "stream",
     "text": [
      "enter value: 12\n",
      "12 is +ve\n",
      "enter value: 3\n",
      "3 is +ve\n",
      "enter value: 4\n",
      "4 is +ve\n",
      "enter value: 5\n",
      "5 is +ve\n",
      "enter value: -5\n",
      "-5 is -ve\n"
     ]
    }
   ],
   "source": [
    "while True:\n",
    "    \n",
    "    i = int(input(\"enter value: \"))\n",
    "\n",
    "    if i>0:\n",
    "        print(f\"{i} is +ve\")\n",
    "        continue\n",
    "\n",
    "    else:\n",
    "        print(f\"{i} is -ve\")\n",
    "        break"
   ]
  },
  {
   "cell_type": "code",
   "execution_count": 24,
   "id": "b53740eb",
   "metadata": {},
   "outputs": [
    {
     "name": "stdout",
     "output_type": "stream",
     "text": [
      "enter value : we\n",
      "only numbers are valid\n",
      "enter value : we\n",
      "only numbers are valid\n",
      "enter value : 12\n",
      "enter value : 34\n",
      "enter value : we\n",
      "only numbers are valid\n",
      "enter value : 1\n",
      "enter value : 2\n",
      "enter value : \n",
      "only numbers are valid\n",
      "enter value : 3\n",
      "enter value : 4\n",
      "enter value : 5\n",
      "enter value : y\n",
      "only numbers are valid\n",
      "enter value : 7\n",
      "enter value : 8\n",
      "enter value : 9\n",
      "85\n"
     ]
    }
   ],
   "source": [
    "i = 0\n",
    "total_sum = 0\n",
    "\n",
    "while i< 10:\n",
    "    try:\n",
    "        n = int(input(\"enter value : \"))\n",
    "        total_sum = total_sum + n\n",
    "        i += 1\n",
    "    except Exception as error:\n",
    "        print('only numbers are valid')\n",
    "        continue\n",
    "    \n",
    "print(total_sum)"
   ]
  },
  {
   "cell_type": "code",
   "execution_count": 42,
   "id": "812ccf07",
   "metadata": {},
   "outputs": [
    {
     "name": "stdout",
     "output_type": "stream",
     "text": [
      "enter input: 3\n",
      "3 is +ve \n",
      "enter input: 3\n",
      "3 is +ve \n",
      "enter input: 3\n",
      "3 is +ve \n",
      "enter input: 3\n",
      "3 is +ve \n",
      "enter input: 3\n",
      "3 is +ve \n",
      "enter input: 3\n",
      "3 is +ve \n",
      "enter input: -4\n",
      "-4 is -ve \n"
     ]
    }
   ],
   "source": [
    "while True:\n",
    "    \n",
    "        n = int(input(\"enter input: \"))\n",
    "        if n > 0 :\n",
    "            print(f\"{n} is +ve \")\n",
    "            continue\n",
    "\n",
    "        else:\n",
    "            print(f\"{n} is -ve \")\n",
    "            break"
   ]
  },
  {
   "cell_type": "code",
   "execution_count": 5,
   "id": "3343a914",
   "metadata": {},
   "outputs": [
    {
     "name": "stdout",
     "output_type": "stream",
     "text": [
      "enter value: 3\n",
      "enter value: 4\n",
      "enter value: 5\n",
      "enter value: 6\n",
      "enter value: 7\n",
      "enter value: 8\n",
      "enter value: 9\n",
      "enter value: 2\n",
      "enter value: 1\n",
      "enter value: 4\n",
      "49\n"
     ]
    }
   ],
   "source": [
    "i = 0\n",
    "total_sum = 0\n",
    "\n",
    "while i < 10:\n",
    "    n = int(input(\"enter value: \"))\n",
    "    total_sum += n\n",
    "    i += 1\n",
    "    \n",
    "print(total_sum)"
   ]
  },
  {
   "cell_type": "code",
   "execution_count": 13,
   "id": "7482f12e",
   "metadata": {},
   "outputs": [
    {
     "name": "stdout",
     "output_type": "stream",
     "text": [
      "enter date of birth(dd-mm-YYYY): 26-08-1998\n",
      "26-08-1998\n",
      "1998-08-26\n",
      "2021-07-23\n",
      "8367 days, 0:00:00\n"
     ]
    }
   ],
   "source": [
    "from datetime import datetime,date\n",
    "\n",
    "date_of_birth = input(\"enter date of birth(dd-mm-YYYY): \")\n",
    "print(date_of_birth)\n",
    "\n",
    "dob = datetime.strptime(date_of_birth , \"%d-%m-%Y\").date()\n",
    "print(dob)\n",
    "\n",
    "date_today = date.today()\n",
    "print(date_today)\n",
    "\n",
    "age_in_days = date_today - dob\n",
    "print(age_in_days)"
   ]
  },
  {
   "cell_type": "code",
   "execution_count": 16,
   "id": "ceb61946",
   "metadata": {},
   "outputs": [
    {
     "name": "stdout",
     "output_type": "stream",
     "text": [
      "enter number: 3\n",
      "3 is +ve\n",
      "enter number: 4\n",
      "4 is +ve\n",
      "enter number: 5\n",
      "5 is +ve\n",
      "enter number: -5\n",
      "-5 is -ve\n"
     ]
    }
   ],
   "source": [
    "while True:\n",
    "    n = int(input(\"enter number: \"))\n",
    "    \n",
    "    if n>0:\n",
    "        print(f\"{n} is +ve\")\n",
    "        continue\n",
    "        \n",
    "    else:\n",
    "        print(f\"{n} is -ve\")\n",
    "        break"
   ]
  },
  {
   "cell_type": "code",
   "execution_count": 22,
   "id": "f7d8d503",
   "metadata": {},
   "outputs": [
    {
     "name": "stdout",
     "output_type": "stream",
     "text": [
      "enter number: 1\n",
      "enter number: 2\n",
      "enter number: 3\n",
      "enter number: 4\n",
      "enter number: r\n",
      "only numbers are valid\n",
      "enter number: 5\n",
      "enter number: 6\n",
      "enter number: 7\n",
      "enter number: 8\n",
      "enter number: 9\n",
      "enter number: 10\n",
      "55\n"
     ]
    }
   ],
   "source": [
    "i = 0 \n",
    "total_sum = 0\n",
    "\n",
    "while i < 10:\n",
    "    \n",
    "    try:\n",
    "        n = int(input(\"enter number: \"))\n",
    "        total_sum = total_sum + n\n",
    "        i = i + 1\n",
    "    except Exception as error:\n",
    "        print(\"only numbers are valid\")\n",
    "        continue\n",
    "    \n",
    "print(total_sum)"
   ]
  },
  {
   "cell_type": "code",
   "execution_count": 24,
   "id": "c61ccecc",
   "metadata": {},
   "outputs": [
    {
     "name": "stdout",
     "output_type": "stream",
     "text": [
      "enter word: sai\n",
      "SAI\n"
     ]
    }
   ],
   "source": [
    "n = input(\"enter word: \")\n",
    "upper = n.upper()\n",
    "print(upper)"
   ]
  },
  {
   "cell_type": "code",
   "execution_count": 3,
   "id": "fc958746",
   "metadata": {},
   "outputs": [
    {
     "name": "stdout",
     "output_type": "stream",
     "text": [
      "enter charecter:  \n",
      "is not lower or not upper\n"
     ]
    }
   ],
   "source": [
    "ch = input(\"enter charecter: \")\n",
    "\n",
    "if (ch >='a'  and ch <= 'z' ):\n",
    "    print(f\"{ch} is lower\")\n",
    "    \n",
    "elif (ch >= 'A' and ch <= 'Z'):\n",
    "    print(f\"{ch} is upper\")\n",
    "    \n",
    "else:\n",
    "    print(\"is not lower or not upper\")"
   ]
  },
  {
   "cell_type": "code",
   "execution_count": 4,
   "id": "1e630204",
   "metadata": {},
   "outputs": [
    {
     "name": "stdout",
     "output_type": "stream",
     "text": [
      "enter value: 2\n",
      "2 is +ve\n",
      "enter value: 3\n",
      "3 is +ve\n",
      "enter value: 4\n",
      "4 is +ve\n",
      "enter value: 5\n",
      "5 is +ve\n",
      "enter value: -2\n",
      "-2 is -ve\n"
     ]
    }
   ],
   "source": [
    "while True:\n",
    "    n = int(input(\"enter value: \"))\n",
    "    if n>=0:\n",
    "        print(f\"{n} is +ve\")\n",
    "        continue\n",
    "        \n",
    "    else:\n",
    "        print(f\"{n} is -ve\")\n",
    "        break\n",
    "        \n",
    "        "
   ]
  },
  {
   "cell_type": "code",
   "execution_count": 10,
   "id": "14a5a7fb",
   "metadata": {},
   "outputs": [
    {
     "name": "stdout",
     "output_type": "stream",
     "text": [
      "enter value: 1\n",
      "enter value: 2\n",
      "enter value: 3\n",
      "enter value: 4\n",
      "enter value: 5\n",
      "enter value: 6\n",
      "enter value: 7\n",
      "enter value: 8\n",
      "enter value: 9\n",
      "enter value: 10\n",
      "55\n"
     ]
    }
   ],
   "source": [
    "i = 1\n",
    "total_sum = 0\n",
    "\n",
    "while i <=10:\n",
    "    n = int(input(\"enter value: \"))\n",
    "    total_sum += n\n",
    "    i += 1\n",
    "    \n",
    "print(total_sum)"
   ]
  },
  {
   "cell_type": "code",
   "execution_count": 15,
   "id": "f70aa8fc",
   "metadata": {},
   "outputs": [
    {
     "name": "stdout",
     "output_type": "stream",
     "text": [
      "enter side a: 12\n",
      "enter side b: 13\n",
      "enter side c: 14\n",
      "it is scalene traingle\n"
     ]
    }
   ],
   "source": [
    "#type of traingle\n",
    "a = int(input(\"enter side a: \"))\n",
    "b = int(input(\"enter side b: \"))\n",
    "c = int(input(\"enter side c: \"))\n",
    "all_equal = a == b and a == c and c == b\n",
    "two_equal = (a == b or a == c) or (c == b or b == a)\n",
    "\n",
    "if all_equal:\n",
    "    print(\"it is equalateral traingle\")\n",
    "    \n",
    "elif two_equal:\n",
    "    print(\"it is isoceles traingle\")\n",
    "    \n",
    "else:\n",
    "    print(\"it is scalene traingle\")"
   ]
  },
  {
   "cell_type": "code",
   "execution_count": 16,
   "id": "8377965c",
   "metadata": {},
   "outputs": [
    {
     "name": "stdout",
     "output_type": "stream",
     "text": [
      "enter word: saigopi\n",
      "s\n",
      "a\n",
      "i\n",
      "g\n",
      "o\n",
      "p\n",
      "i\n"
     ]
    }
   ],
   "source": [
    "n = input(\"enter word: \")\n",
    "for each_char in n:\n",
    "    print(each_char)\n",
    "    continue\n",
    "    \n",
    "else "
   ]
  },
  {
   "cell_type": "code",
   "execution_count": 17,
   "id": "61236189",
   "metadata": {},
   "outputs": [
    {
     "name": "stdout",
     "output_type": "stream",
     "text": [
      "0\n",
      "1\n",
      "2\n",
      "3\n",
      "4\n"
     ]
    }
   ],
   "source": [
    "for each_num in range(5):\n",
    "    print(each_num)"
   ]
  },
  {
   "cell_type": "code",
   "execution_count": 33,
   "id": "73083959",
   "metadata": {},
   "outputs": [
    {
     "name": "stdout",
     "output_type": "stream",
     "text": [
      "enter a : 2\n",
      "enter b : 4\n",
      "enter c : 2\n",
      "it has 1 root -4.0\n"
     ]
    }
   ],
   "source": [
    "from math import sqrt\n",
    "a = int(input(\"enter a : \"))\n",
    "b = int(input(\"enter b : \"))\n",
    "c = int(input(\"enter c : \"))\n",
    "r = b**2 - (4 * a * c)\n",
    "if r > 0:\n",
    "    q1 = -b + sqrt(r)/(2 * a)\n",
    "    q2 = -b - sqrt(r)/(2 * a)\n",
    "    print(f\"It has 2 roots {q1} & {q2}\")\n",
    "    \n",
    "elif r == 0:\n",
    "    q = -b / 2 * a \n",
    "    print(f\"it has 1 root {q}\")\n",
    "    \n",
    "else:    \n",
    "      print(\"it has no roots\")\n",
    "          \n",
    "    "
   ]
  },
  {
   "cell_type": "code",
   "execution_count": 51,
   "id": "badbb7b3",
   "metadata": {},
   "outputs": [
    {
     "name": "stdout",
     "output_type": "stream",
     "text": [
      "enter no of sales per month : 100\n",
      "203\n"
     ]
    }
   ],
   "source": [
    "sales = int(input(\"enter no of sales per month : \"))\n",
    "\n",
    "if sales >= 50000:\n",
    "    salary =int (375 + (sales * (16 / 100) ) )\n",
    "    print(salary)\n",
    "    \n",
    "elif sales <= 50000 and sales >= 40000 :\n",
    "    salary = int (350 + (sales * (14 / 100) ) )\n",
    "    print(salary)\n",
    "    \n",
    "elif sales <= 40000 and sales >= 30000 :\n",
    "    salary = int (325 + (sales * (12 / 100) ) )\n",
    "    print(salary)\n",
    "    \n",
    "elif sales <= 30000 and sales >= 20000 :\n",
    "    salary = int (300 + (sales * (9 / 100) ) )\n",
    "    print(salary)\n",
    "    \n",
    "elif sales <= 20000 and sales >= 10000 :\n",
    "    salary = int (250 + (sales * (5 / 100) ) )\n",
    "    print(salary)\n",
    "    \n",
    "elif sales <= 10000 :\n",
    "    salary = int ( 200 + (sales * (3 / 100) ) )\n",
    "    print(salary)\n",
    "    "
   ]
  },
  {
   "cell_type": "code",
   "execution_count": 61,
   "id": "8489f810",
   "metadata": {},
   "outputs": [
    {
     "name": "stdout",
     "output_type": "stream",
     "text": [
      "7\n",
      "14\n",
      "21\n",
      "28\n",
      "35\n",
      "42\n",
      "49\n",
      "56\n",
      "63\n",
      "70\n",
      "77\n",
      "84\n",
      "91\n",
      "98\n"
     ]
    }
   ],
   "source": [
    "i = 1\n",
    "\n",
    "while i <= 100:\n",
    "    \n",
    "    if i % 7 == 0 :\n",
    "        print(i)\n",
    "    i += 1\n",
    "    "
   ]
  },
  {
   "cell_type": "code",
   "execution_count": 90,
   "id": "2783b63f",
   "metadata": {},
   "outputs": [
    {
     "name": "stdout",
     "output_type": "stream",
     "text": [
      "[5, 6, 1, 2, 3, 4]\n"
     ]
    }
   ],
   "source": [
    "n = 2\n",
    "list_1 = [1, 2, 3, 4, 5, 6]\n",
    "list_1 = list_1[-n:] + list_1[:-n]\n",
    "print(list_1)\n"
   ]
  },
  {
   "cell_type": "code",
   "execution_count": 101,
   "id": "a9368d8a",
   "metadata": {},
   "outputs": [
    {
     "name": "stdout",
     "output_type": "stream",
     "text": [
      "lo world\n"
     ]
    },
    {
     "data": {
      "text/plain": [
       "'row olleh'"
      ]
     },
     "execution_count": 101,
     "metadata": {},
     "output_type": "execute_result"
    }
   ],
   "source": [
    "s = \"hello world\"\n",
    "print(s[3:])\n",
    "s[-3::-1]"
   ]
  },
  {
   "cell_type": "code",
   "execution_count": 89,
   "id": "6f035c4a",
   "metadata": {},
   "outputs": [
    {
     "name": "stdout",
     "output_type": "stream",
     "text": [
      "[3, 4, 5, 6, 1, 2]\n"
     ]
    }
   ],
   "source": [
    "n = 2\n",
    "list_1 = [1, 2, 3, 4, 5, 6]\n",
    "list_1 = list_1[n:] + list_1[:n]\n",
    "print(list_1)"
   ]
  },
  {
   "cell_type": "code",
   "execution_count": 127,
   "id": "87d884b8",
   "metadata": {},
   "outputs": [
    {
     "data": {
      "text/plain": [
       "[3, 4, 5, 6, 7, 1, 2]"
      ]
     },
     "execution_count": 127,
     "metadata": {},
     "output_type": "execute_result"
    }
   ],
   "source": [
    "n = 5\n",
    "l = [1, 2, 3, 4, 5, 6, 7]\n",
    "l = l[-n:] + l[:-n]\n",
    "l\n",
    "\n"
   ]
  },
  {
   "cell_type": "code",
   "execution_count": 29,
   "id": "a5d516be",
   "metadata": {},
   "outputs": [
    {
     "data": {
      "text/plain": [
       "[5, 4, 3, 2]"
      ]
     },
     "execution_count": 29,
     "metadata": {},
     "output_type": "execute_result"
    }
   ],
   "source": [
    "list_1 = [1, 2, 3, 4, 5]\n",
    "\n",
    "\n",
    "list_1[-1:-5:-1]"
   ]
  },
  {
   "cell_type": "code",
   "execution_count": 126,
   "id": "c2519f13",
   "metadata": {},
   "outputs": [
    {
     "data": {
      "text/plain": [
       "[False, False, True, True, True, True, True, False, True, False, True]"
      ]
     },
     "execution_count": 126,
     "metadata": {},
     "output_type": "execute_result"
    }
   ],
   "source": [
    "temp  = [4, 6, 3, 5, 10, 2, 8]\n",
    "n = max(temp) + 1\n",
    "bf = n * [False]\n",
    "\n",
    "for x in temp:\n",
    "    bf[x] = True\n",
    "    \n",
    "bf"
   ]
  },
  {
   "cell_type": "code",
   "execution_count": 32,
   "id": "4e281a56",
   "metadata": {},
   "outputs": [],
   "source": [
    "l = [(1234, 'jhon', 23000.0, 22),\n",
    "     (1212, 'sasi', 26000.0, 34),\n",
    "     (1245, 'mani', 27500.0, 16),\n",
    "     (1644, 'gani', 28000.0, 45)]\n"
   ]
  },
  {
   "cell_type": "code",
   "execution_count": 33,
   "id": "364c9377",
   "metadata": {},
   "outputs": [
    {
     "name": "stdout",
     "output_type": "stream",
     "text": [
      "(1234, 'jhon', 23000.0, True)\n",
      "(1212, 'sasi', 26000.0, False)\n",
      "(1245, 'mani', 27500.0, True)\n"
     ]
    }
   ],
   "source": [
    "for x in l:\n",
    "    print(x)"
   ]
  },
  {
   "cell_type": "code",
   "execution_count": 43,
   "id": "4ba83020",
   "metadata": {},
   "outputs": [],
   "source": [
    "emid, *others, age = (1234, 'jhon', 23000.0, 23)\n"
   ]
  },
  {
   "cell_type": "code",
   "execution_count": 45,
   "id": "9125dce2",
   "metadata": {},
   "outputs": [
    {
     "data": {
      "text/plain": [
       "1234"
      ]
     },
     "execution_count": 45,
     "metadata": {},
     "output_type": "execute_result"
    }
   ],
   "source": [
    "emid"
   ]
  },
  {
   "cell_type": "code",
   "execution_count": 44,
   "id": "e7035e62",
   "metadata": {},
   "outputs": [
    {
     "data": {
      "text/plain": [
       "23"
      ]
     },
     "execution_count": 44,
     "metadata": {},
     "output_type": "execute_result"
    }
   ],
   "source": [
    "age"
   ]
  },
  {
   "cell_type": "code",
   "execution_count": 46,
   "id": "15668f0f",
   "metadata": {},
   "outputs": [
    {
     "data": {
      "text/plain": [
       "[1234, 'jhon', 23000.0]"
      ]
     },
     "execution_count": 46,
     "metadata": {},
     "output_type": "execute_result"
    }
   ],
   "source": [
    "others"
   ]
  },
  {
   "cell_type": "code",
   "execution_count": 48,
   "id": "f05279bb",
   "metadata": {},
   "outputs": [
    {
     "data": {
      "text/plain": [
       "'a'"
      ]
     },
     "execution_count": 48,
     "metadata": {},
     "output_type": "execute_result"
    }
   ],
   "source": [
    "emid ,*other, toor = 'abcdef'\n",
    "emid"
   ]
  },
  {
   "cell_type": "code",
   "execution_count": 49,
   "id": "1521d084",
   "metadata": {},
   "outputs": [
    {
     "data": {
      "text/plain": [
       "'f'"
      ]
     },
     "execution_count": 49,
     "metadata": {},
     "output_type": "execute_result"
    }
   ],
   "source": [
    "toor"
   ]
  },
  {
   "cell_type": "code",
   "execution_count": 50,
   "id": "defb5816",
   "metadata": {},
   "outputs": [
    {
     "data": {
      "text/plain": [
       "['b', 'c', 'd', 'e']"
      ]
     },
     "execution_count": 50,
     "metadata": {},
     "output_type": "execute_result"
    }
   ],
   "source": [
    "other"
   ]
  },
  {
   "cell_type": "code",
   "execution_count": 78,
   "id": "a5c6f8c5",
   "metadata": {},
   "outputs": [
    {
     "data": {
      "text/plain": [
       "[(1644, 'gani', 28000.0, 45),\n",
       " (1245, 'mani', 27500.0, 16),\n",
       " (1212, 'sasi', 26000.0, 34),\n",
       " (1234, 'jhon', 23000.0, 22)]"
      ]
     },
     "execution_count": 78,
     "metadata": {},
     "output_type": "execute_result"
    }
   ],
   "source": [
    "l = [(1234, 'jhon', 23000.0, 22),\n",
    "     (1212, 'sasi', 26000.0, 34),\n",
    "     (1245, 'mani', 27500.0, 16),\n",
    "     (1644, 'gani', 28000.0, 45)]\n",
    "sorted(l , reverse=True, key=lambda x:x[2])\n",
    "\n"
   ]
  },
  {
   "cell_type": "code",
   "execution_count": 80,
   "id": "7d6038ae",
   "metadata": {},
   "outputs": [
    {
     "data": {
      "text/plain": [
       "(1644, 'gani', 28000.0, 45)"
      ]
     },
     "execution_count": 80,
     "metadata": {},
     "output_type": "execute_result"
    }
   ],
   "source": [
    "max(l , key=lambda x:x[2])"
   ]
  },
  {
   "cell_type": "code",
   "execution_count": 81,
   "id": "b473da39",
   "metadata": {},
   "outputs": [
    {
     "data": {
      "text/plain": [
       "(1234, 'jhon', 23000.0, 22)"
      ]
     },
     "execution_count": 81,
     "metadata": {},
     "output_type": "execute_result"
    }
   ],
   "source": [
    "min(l , key = lambda x:x[2])"
   ]
  },
  {
   "cell_type": "code",
   "execution_count": 74,
   "id": "d51a4037",
   "metadata": {},
   "outputs": [],
   "source": [
    "f = lambda x:x*x"
   ]
  },
  {
   "cell_type": "code",
   "execution_count": 76,
   "id": "04a52027",
   "metadata": {},
   "outputs": [
    {
     "data": {
      "text/plain": [
       "25"
      ]
     },
     "execution_count": 76,
     "metadata": {},
     "output_type": "execute_result"
    }
   ],
   "source": [
    "f(5)"
   ]
  },
  {
   "cell_type": "code",
   "execution_count": null,
   "id": "caaa3c2d",
   "metadata": {},
   "outputs": [],
   "source": []
  },
  {
   "cell_type": "code",
   "execution_count": 4,
   "id": "96f1751c",
   "metadata": {},
   "outputs": [
    {
     "name": "stdout",
     "output_type": "stream",
     "text": [
      "14000.0\n",
      "21000.0\n",
      "27500.0\n",
      "28000.0\n",
      "sum of salary:90500.0\n",
      "length of salary: 4\n",
      "average of salary:22625.0\n",
      "28000.0\n"
     ]
    }
   ],
   "source": [
    "l = [(1234, 'jhon', 14000.0, 22),\n",
    "     (1212, 'sasi', 21000.0, 34),\n",
    "     (1245, 'mani', 27500.0, 16),\n",
    "     (1644, 'gani', 28000.0, 45)]\n",
    "sum_1 = 0\n",
    "counter = 0\n",
    "for *_ ,sal, age in l:\n",
    "    sum_1 += sal\n",
    "    counter += 1\n",
    "    print(sal)\n",
    "    \n",
    "print(f\"sum of salary:{sum_1}\")\n",
    "print(f\"length of salary: {counter}\")\n",
    "avg = sum_1 / counter    \n",
    "print(f\"average of salary:{avg}\")\n",
    "\n",
    "if sal > avg:\n",
    "    print(sal)\n",
    "\n",
    "\n",
    "    \n",
    "\n",
    "\n",
    "    "
   ]
  },
  {
   "cell_type": "code",
   "execution_count": null,
   "id": "8cd37ca8",
   "metadata": {},
   "outputs": [],
   "source": []
  },
  {
   "cell_type": "code",
   "execution_count": null,
   "id": "a4c69f86",
   "metadata": {},
   "outputs": [],
   "source": []
  }
 ],
 "metadata": {
  "kernelspec": {
   "display_name": "Python 3",
   "language": "python",
   "name": "python3"
  },
  "language_info": {
   "codemirror_mode": {
    "name": "ipython",
    "version": 3
   },
   "file_extension": ".py",
   "mimetype": "text/x-python",
   "name": "python",
   "nbconvert_exporter": "python",
   "pygments_lexer": "ipython3",
   "version": "3.8.8"
  }
 },
 "nbformat": 4,
 "nbformat_minor": 5
}
